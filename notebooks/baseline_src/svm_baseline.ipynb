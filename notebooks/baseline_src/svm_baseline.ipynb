{
 "cells": [
  {
   "cell_type": "code",
   "execution_count": 2,
   "metadata": {},
   "outputs": [],
   "source": [
    "import pandas as pd\n",
    "from sklearn.model_selection import train_test_split\n",
    "from sklearn.feature_extraction.text import TfidfVectorizer\n",
    "from sklearn.svm import LinearSVC\n",
    "from sklearn.preprocessing import StandardScaler\n",
    "from sklearn.compose import ColumnTransformer\n",
    "from sklearn.pipeline import Pipeline\n",
    "import joblib\n",
    "import sys\n",
    "sys.path.append('../../src')\n",
    "from preprocessing import FinancialTweetPreprocessor\n",
    "from evaluation_classical import evaluate_classical_model\n",
    "from initial_balanced_dataset import create_balanced_dataset"
   ]
  },
  {
   "cell_type": "code",
   "execution_count": 3,
   "metadata": {
    "colab": {
     "base_uri": "https://localhost:8080/"
    },
    "executionInfo": {
     "elapsed": 11373,
     "status": "ok",
     "timestamp": 1749023799255,
     "user": {
      "displayName": "Timothy Tong",
      "userId": "04634270029715237152"
     },
     "user_tz": 420
    },
    "id": "aFciQiiWkGY0",
    "outputId": "842a4101-0391-46f5-dd78-24bb518fc256"
   },
   "outputs": [
    {
     "name": "stdout",
     "output_type": "stream",
     "text": [
      "Both train/val and test datasets already exist. Skipping creation.\n",
      "(47106, 2)\n"
     ]
    }
   ],
   "source": [
    "# Create dataset (skips if dataset already exists)\n",
    "create_balanced_dataset()\n",
    "\n",
    "# Load Data\n",
    "df = pd.read_csv('../../dataset/initial_balanced_tweets.csv')\n",
    "print(df.shape)\n",
    "\n",
    "# Preprocess\n",
    "print(\"Preprocessing DataFrame...\")\n",
    "preprocessor = FinancialTweetPreprocessor()\n",
    "df_preprocessed = preprocessor.preprocess_dataset(df, 'tweet')\n",
    "\n",
    "pd.set_option('display.max_columns', None)\n",
    "print(\"\\nProcessed DataFrame:\")\n",
    "print(df_preprocessed[['processed_text', 'sentiment', 'ticker_count', 'mention_count',\n",
    "                       'url_count', 'token_count', 'exclamation_count', 'question_count']].head())\n",
    "print(\"\\nAll columns in processed DataFrame:\")\n",
    "print(df_preprocessed.columns.tolist())\n",
    "\n",
    "# Count zeros in every column of df_preprocessed\n",
    "zero_counts = (df_preprocessed == 0).sum()\n",
    "print(\"Number of zeros per column:\")\n",
    "print(zero_counts)"
   ]
  },
  {
   "cell_type": "code",
   "execution_count": null,
   "metadata": {},
   "outputs": [],
   "source": [
    "# Split the Data into Training and Testing Sets\n",
    "X_train, X_val, y_train, y_val = train_test_split(X, y, test_size=0.2, random_state=42, stratify=y)\n",
    "print(f\"Training set size: {len(X_train)} samples\")\n",
    "print(f\"Validation set size: {len(X_val)} samples\")"
   ]
  },
  {
   "cell_type": "code",
   "execution_count": 4,
   "metadata": {
    "colab": {
     "base_uri": "https://localhost:8080/"
    },
    "executionInfo": {
     "elapsed": 40896,
     "status": "ok",
     "timestamp": 1749023842691,
     "user": {
      "displayName": "Timothy Tong",
      "userId": "04634270029715237152"
     },
     "user_tz": 420
    },
    "id": "uVwUHZ42y0yq",
    "outputId": "bb65689a-3da4-40b9-816a-2ae6bc973b69"
   },
   "outputs": [
    {
     "name": "stdout",
     "output_type": "stream",
     "text": [
      "Preprocessing DataFrame...\n",
      "\n",
      "All columns in processed DataFrame:\n",
      "['tweet', 'sentiment', 'processed_text', 'ticker_count', 'mention_count', 'url_count', 'token_count', 'exclamation_count', 'question_count']\n"
     ]
    }
   ],
   "source": [
    "print(\"\\nLOADING & PREPROCESSING TEST SET\")\n",
    "df_test = pd.read_csv(\"../../dataset/test_set.csv\")\n",
    "# Preprocess test text\n",
    "preprocessor = FinancialTweetPreprocessor()\n",
    "df_test = preprocessor.preprocess_dataset(df_test, text_column='tweet')\n",
    "# Prepare inputs\n",
    "X = df_preprocessed[['processed_text', 'ticker_count', 'mention_count',\n",
    "                 'url_count', 'token_count']]\n",
    "y = df_preprocessed['sentiment']\n",
    "X_test = df_test[['processed_text', 'ticker_count', 'mention_count', 'url_count', 'token_count']]\n",
    "y_test = df_test['sentiment']\n",
    "print(f\"Testing set size: {len(X_test)} samples\")"
   ]
  },
  {
   "cell_type": "code",
   "execution_count": null,
   "metadata": {
    "colab": {
     "base_uri": "https://localhost:8080/"
    },
    "executionInfo": {
     "elapsed": 5866,
     "status": "ok",
     "timestamp": 1749023848552,
     "user": {
      "displayName": "Timothy Tong",
      "userId": "04634270029715237152"
     },
     "user_tz": 420
    },
    "id": "Dgd3LoymvfjV",
    "outputId": "e66db9b5-7964-4dc7-80a4-3666dea3ed3a"
   },
   "outputs": [],
   "source": [
    "# Define Preprocessing Steps for Different Column Types\n",
    "preprocessor_for_model = ColumnTransformer(\n",
    "    transformers=[\n",
    "        # Apply TF-IDF to the 'processed_text' column\n",
    "        ('text_vectorizer', TfidfVectorizer(max_features=20000, min_df=5, ngram_range=(1, 2)), 'processed_text'),\n",
    "        # Apply StandardScaler to the numerical metadata features\n",
    "        ('num_scaler', StandardScaler(), ['ticker_count', 'mention_count', 'url_count',\n",
    "                                          'token_count', 'exclamation_count', 'question_count'])\n",
    "    ]\n",
    ")\n",
    "\n",
    "# Create a Pipeline: Preprocessing + Model Training\n",
    "pipeline = Pipeline(steps=[\n",
    "    ('preprocessor', preprocessor_for_model), # Applies TF-IDF to text and scales numerical features\n",
    "    ('svm_model', LinearSVC(random_state=42, C=0.5, max_iter=10000))\n",
    "])\n",
    "\n",
    "# Train the Pipeline\n",
    "print(\"\\nTraining Linear SVM model...\")\n",
    "pipeline.fit(X_train, y_train)\n",
    "print(\"Linear SVM training complete.\")\n",
    "\n",
    "# Evaluate the Model\n",
    "print(\"\\nEvaluating the Linear SVM model...\")\n",
    "y_pred = pipeline.predict(X_test)"
   ]
  },
  {
   "cell_type": "code",
   "execution_count": null,
   "metadata": {
    "colab": {
     "base_uri": "https://localhost:8080/",
     "height": 0
    },
    "executionInfo": {
     "elapsed": 273,
     "status": "ok",
     "timestamp": 1749023848853,
     "user": {
      "displayName": "Timothy Tong",
      "userId": "04634270029715237152"
     },
     "user_tz": 420
    },
    "id": "GefU0Rpr4YIK",
    "outputId": "edfee77b-0322-4eed-eec7-7423d829fed7"
   },
   "outputs": [],
   "source": [
    "print(\"\\nTraining Linear SVM model...\")\n",
    "pipeline.fit(X_train, y_train)\n",
    "print(\"Linear SVM training complete.\")\n",
    "\n",
    "evaluate_classical_model(\n",
    "    pipeline=pipeline,\n",
    "    X_train=X_train,\n",
    "    y_train=y_train,\n",
    "    X_test=X_test,\n",
    "    y_test=y_test,\n",
    "    model_name='Linear SVM'\n",
    ")"
   ]
  },
  {
   "cell_type": "code",
   "execution_count": null,
   "metadata": {},
   "outputs": [],
   "source": [
    "# Save the entire pipeline (preprocessing + model)\n",
    "joblib.dump(pipeline, '../../models/v1-1/baseline/SVM_pipeline.pkl')\n",
    "print(\"Model pipeline saved to ../../models/v1-1/baseline/SVM_pipeline.pkl\")"
   ]
  }
 ],
 "metadata": {
  "colab": {
   "provenance": []
  },
  "kernelspec": {
   "display_name": "Python 3",
   "name": "python3"
  },
  "language_info": {
   "codemirror_mode": {
    "name": "ipython",
    "version": 3
   },
   "file_extension": ".py",
   "mimetype": "text/x-python",
   "name": "python",
   "nbconvert_exporter": "python",
   "pygments_lexer": "ipython3",
   "version": "3.13.3"
  }
 },
 "nbformat": 4,
 "nbformat_minor": 0
}
