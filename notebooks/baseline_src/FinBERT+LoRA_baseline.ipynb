{
 "cells": [
  {
   "cell_type": "code",
   "execution_count": 1,
   "metadata": {
    "id": "4WW7qhpTuBsQ"
   },
   "outputs": [
    {
     "name": "stderr",
     "output_type": "stream",
     "text": [
      "/Users/tecsongacrama/Desktop/CS_Projects/financial_sentimentAnalysis/sentimentAnalysis-venv/lib/python3.13/site-packages/tqdm/auto.py:21: TqdmWarning: IProgress not found. Please update jupyter and ipywidgets. See https://ipywidgets.readthedocs.io/en/stable/user_install.html\n",
      "  from .autonotebook import tqdm as notebook_tqdm\n",
      "[nltk_data] Downloading package stopwords to\n",
      "[nltk_data]     /Users/tecsongacrama/nltk_data...\n",
      "[nltk_data]   Package stopwords is already up-to-date!\n",
      "[nltk_data] Downloading package wordnet to\n",
      "[nltk_data]     /Users/tecsongacrama/nltk_data...\n",
      "[nltk_data]   Package wordnet is already up-to-date!\n",
      "[nltk_data] Downloading package punkt to\n",
      "[nltk_data]     /Users/tecsongacrama/nltk_data...\n",
      "[nltk_data]   Package punkt is already up-to-date!\n"
     ]
    }
   ],
   "source": [
    "import pandas as pd\n",
    "import numpy as np\n",
    "import re\n",
    "import torch\n",
    "import torch.nn as nn\n",
    "from transformers import (\n",
    "    AutoTokenizer,\n",
    "    AutoModelForSequenceClassification,\n",
    "    TrainingArguments,\n",
    "    Trainer, default_data_collator\n",
    ")\n",
    "from peft import LoraConfig, get_peft_model, TaskType\n",
    "import warnings\n",
    "warnings.filterwarnings('ignore')\n",
    "from torch.utils.data import Dataset\n",
    "from sklearn.model_selection import train_test_split\n",
    "from sklearn.preprocessing import StandardScaler\n",
    "import os\n",
    "import sys\n",
    "sys.path.append('../../src')\n",
    "from preprocessing import FinancialTweetPreprocessor\n",
    "from evaluation_transformer import evaluate_transformer\n",
    "from initial_balanced_dataset import create_balanced_dataset"
   ]
  },
  {
   "cell_type": "code",
   "execution_count": 2,
   "metadata": {
    "colab": {
     "base_uri": "https://localhost:8080/"
    },
    "executionInfo": {
     "elapsed": 21946,
     "status": "ok",
     "timestamp": 1749717138622,
     "user": {
      "displayName": "Tecson Gacrama",
      "userId": "11574291357152863852"
     },
     "user_tz": 420
    },
    "id": "3IhiE3VsuSm-",
    "outputId": "47be602f-e918-435b-9605-3cc74b50f235"
   },
   "outputs": [
    {
     "name": "stdout",
     "output_type": "stream",
     "text": [
      "Both train/val and test datasets already exist. Skipping creation.\n",
      "(47106, 2)\n",
      "Preprocessing DataFrame...\n",
      "\n",
      "Processed DataFrame:\n",
      "                                      processed_text  sentiment  ticker_count  \\\n",
      "0          upholding perhaps pushing price upwards .          1             0   \n",
      "1  michael k . wirth sell 52,500 share chevron co...          2             1   \n",
      "2  would buy aap buy c growth . aap sell ipads ip...          1             0   \n",
      "3  economic expert believe current interest rate ...          0             0   \n",
      "4                    era financial boom over forever          2             0   \n",
      "\n",
      "   mention_count  url_count  token_count  exclamation_count  question_count  \n",
      "0              0          0            6                  0               0  \n",
      "1              0          0           12                  0               0  \n",
      "2              0          0           15                  0               0  \n",
      "3              0          0           10                  0               0  \n",
      "4              0          0            5                  0               0  \n",
      "\n",
      "All columns in processed DataFrame:\n",
      "['tweet', 'sentiment', 'processed_text', 'ticker_count', 'mention_count', 'url_count', 'token_count', 'exclamation_count', 'question_count']\n",
      "Number of zeros per column:\n",
      "tweet                    0\n",
      "sentiment            15702\n",
      "processed_text           0\n",
      "ticker_count         29186\n",
      "mention_count        40628\n",
      "url_count            37076\n",
      "token_count              2\n",
      "exclamation_count    43507\n",
      "question_count       44121\n",
      "dtype: int64\n"
     ]
    }
   ],
   "source": [
    "# Create dataset (skips if dataset already exists)\n",
    "create_balanced_dataset()\n",
    "\n",
    "# Load Data\n",
    "df = pd.read_csv('../../dataset/initial_balanced_tweets.csv')\n",
    "print(df.shape)\n",
    "\n",
    "# Preprocess\n",
    "print(\"Preprocessing DataFrame...\")\n",
    "preprocessor = FinancialTweetPreprocessor()\n",
    "df_preprocessed = preprocessor.preprocess_dataset(df, 'tweet')\n",
    "\n",
    "pd.set_option('display.max_columns', None)\n",
    "print(\"\\nProcessed DataFrame:\")\n",
    "print(df_preprocessed[['processed_text', 'sentiment', 'ticker_count', 'mention_count',\n",
    "                       'url_count', 'token_count', 'exclamation_count', 'question_count']].head())\n",
    "print(\"\\nAll columns in processed DataFrame:\")\n",
    "print(df_preprocessed.columns.tolist())\n",
    "\n",
    "# Count zeros in every column of df_preprocessed\n",
    "zero_counts = (df_preprocessed == 0).sum()\n",
    "print(\"Number of zeros per column:\")\n",
    "print(zero_counts)"
   ]
  },
  {
   "cell_type": "code",
   "execution_count": 3,
   "metadata": {
    "colab": {
     "base_uri": "https://localhost:8080/"
    },
    "executionInfo": {
     "elapsed": 9,
     "status": "ok",
     "timestamp": 1749717138635,
     "user": {
      "displayName": "Tecson Gacrama",
      "userId": "11574291357152863852"
     },
     "user_tz": 420
    },
    "id": "GuVmNa1dzzUS",
    "outputId": "3af4a984-fad6-4569-fae1-d8cc82c6e95a"
   },
   "outputs": [
    {
     "name": "stdout",
     "output_type": "stream",
     "text": [
      "Training set size: 37684 samples\n",
      "Validation set size: 9422 samples\n"
     ]
    }
   ],
   "source": [
    "X = df_preprocessed[['processed_text', 'ticker_count', 'mention_count',\n",
    "                 'url_count', 'token_count']]\n",
    "y = df_preprocessed['sentiment']\n",
    "\n",
    "# Split the Data into Training and Testing Sets\n",
    "X_train, X_val, y_train, y_val = train_test_split(X, y, test_size=0.2, random_state=42, stratify=y)\n",
    "\n",
    "print(f\"Training set size: {len(X_train)} samples\")\n",
    "print(f\"Validation set size: {len(X_val)} samples\")"
   ]
  },
  {
   "cell_type": "code",
   "execution_count": 5,
   "metadata": {},
   "outputs": [
    {
     "name": "stdout",
     "output_type": "stream",
     "text": [
      "\n",
      "LOADING & PREPROCESSING TEST SET\n",
      "Testing set size: 4998 samples\n"
     ]
    }
   ],
   "source": [
    "print(\"\\nLOADING & PREPROCESSING TEST SET\")\n",
    "df_test = pd.read_csv(\"../../dataset/test_set.csv\")\n",
    "# Preprocess text\n",
    "preprocessor = FinancialTweetPreprocessor()\n",
    "df_test = preprocessor.preprocess_dataset(df_test, text_column='tweet')\n",
    "# Prepare inputs\n",
    "X_test = df_test[['processed_text', 'ticker_count', 'mention_count', 'url_count', 'token_count']]\n",
    "y_test = df_test['sentiment']\n",
    "print(f\"Testing set size: {len(X_test)} samples\")\n"
   ]
  },
  {
   "cell_type": "code",
   "execution_count": 7,
   "metadata": {
    "colab": {
     "base_uri": "https://localhost:8080/"
    },
    "executionInfo": {
     "elapsed": 34,
     "status": "ok",
     "timestamp": 1749717146964,
     "user": {
      "displayName": "Tecson Gacrama",
      "userId": "11574291357152863852"
     },
     "user_tz": 420
    },
    "id": "dr99yMmc28K8",
    "outputId": "73258520-2057-45fa-a7a4-62c8d56388f8"
   },
   "outputs": [
    {
     "name": "stdout",
     "output_type": "stream",
     "text": [
      "\n",
      "Dataset Configuration\n",
      "\n",
      "Class distribution in training set:\n",
      "sentiment\n",
      "0    12562\n",
      "1    12561\n",
      "2    12561\n",
      "Name: count, dtype: int64\n",
      "\n",
      "Class distribution in validation set:\n",
      "sentiment\n",
      "0    3140\n",
      "1    3141\n",
      "2    3141\n",
      "Name: count, dtype: int64\n",
      "\n",
      "Class distribution in testing set:\n",
      "sentiment\n",
      "0    1666\n",
      "1    1666\n",
      "2    1666\n",
      "Name: count, dtype: int64\n"
     ]
    }
   ],
   "source": [
    "# ------ FinBert + LoRA ------\n",
    "# Re-Check data format and class distribution\n",
    "print(f\"\\nDataset Configuration\")\n",
    "print(f\"\\nClass distribution in training set:\")\n",
    "print(y_train.value_counts().sort_index())\n",
    "print(f\"\\nClass distribution in validation set:\")\n",
    "print(y_val.value_counts().sort_index())\n",
    "print(f\"\\nClass distribution in testing set:\")\n",
    "print(y_test.value_counts().sort_index())"
   ]
  },
  {
   "cell_type": "code",
   "execution_count": 8,
   "metadata": {
    "colab": {
     "base_uri": "https://localhost:8080/"
    },
    "executionInfo": {
     "elapsed": 1532,
     "status": "ok",
     "timestamp": 1749717148502,
     "user": {
      "displayName": "Tecson Gacrama",
      "userId": "11574291357152863852"
     },
     "user_tz": 420
    },
    "id": "i2zXpeai8Hr9",
    "outputId": "42339841-9d64-4398-a29d-f59e718681f5"
   },
   "outputs": [
    {
     "name": "stdout",
     "output_type": "stream",
     "text": [
      "\n",
      "LOADING FINBERT AND CONFIGURING LORA\n",
      "'NoneType' object has no attribute 'cadam32bit_grad_fp32'\n",
      "\n",
      "LoRA configuration applied!\n",
      "trainable params: 2,681,091 || all params: 112,165,638 || trainable%: 2.3903\n"
     ]
    }
   ],
   "source": [
    "print(\"\\nLOADING FINBERT AND CONFIGURING LORA\")\n",
    "\n",
    "# Load FinBERT model and tokenizer\n",
    "tokenizer = AutoTokenizer.from_pretrained(\"ProsusAI/finbert\")\n",
    "base_model = AutoModelForSequenceClassification.from_pretrained(\n",
    "    \"ProsusAI/finbert\",\n",
    "    num_labels=3\n",
    ")\n",
    "\n",
    "lora_config = LoraConfig(\n",
    "    r=16,  # rank\n",
    "    lora_alpha=32,\n",
    "    target_modules=[\"query\", \"key\", \"value\", \"dense\"],\n",
    "    lora_dropout=0.1,\n",
    "    bias=\"none\",\n",
    "    task_type=TaskType.SEQ_CLS,\n",
    ")\n",
    "\n",
    "# Apply LoRA to the base model\n",
    "lora_model = get_peft_model(base_model, lora_config)\n",
    "print(\"\\nLoRA configuration applied!\")\n",
    "lora_model.print_trainable_parameters()"
   ]
  },
  {
   "cell_type": "code",
   "execution_count": 9,
   "metadata": {
    "colab": {
     "base_uri": "https://localhost:8080/"
    },
    "executionInfo": {
     "elapsed": 29,
     "status": "ok",
     "timestamp": 1749717148533,
     "user": {
      "displayName": "Tecson Gacrama",
      "userId": "11574291357152863852"
     },
     "user_tz": 420
    },
    "id": "cKICcFmC67aO",
    "outputId": "33d2b081-ffb9-44b1-f107-3be3e1ddb58a"
   },
   "outputs": [
    {
     "name": "stdout",
     "output_type": "stream",
     "text": [
      "\n",
      "CREATING CUSTOM MODEL WITH METADATA FEATURES\n",
      "Custom model with metadata features created!\n"
     ]
    }
   ],
   "source": [
    "print(\"\\nCREATING CUSTOM MODEL WITH METADATA FEATURES\")\n",
    "class FinBERTWithMetadata(nn.Module):\n",
    "    def __init__(self, lora_model, num_features=4, num_labels=3):\n",
    "        super().__init__()\n",
    "        self.lora_model = lora_model\n",
    "        self.dropout = nn.Dropout(0.1)\n",
    "        # Combine BERT hidden size (768) with metadata features\n",
    "        self.classifier = nn.Linear(768 + num_features, num_labels)\n",
    "\n",
    "    def forward(self, input_ids, attention_mask, features=None):\n",
    "        # Get BERT outputs\n",
    "        bert_outputs = self.lora_model.base_model.bert(\n",
    "            input_ids=input_ids,\n",
    "            attention_mask=attention_mask\n",
    "        )\n",
    "\n",
    "        # Get pooled output\n",
    "        pooled_output = bert_outputs.pooler_output\n",
    "        pooled_output = self.dropout(pooled_output)\n",
    "\n",
    "        # If features provided, concatenate them\n",
    "        if features is not None:\n",
    "            combined = torch.cat([pooled_output, features], dim=1)\n",
    "            logits = self.classifier(combined)\n",
    "        else:\n",
    "            # Fallback for inference without features\n",
    "            logits = self.classifier(pooled_output)\n",
    "\n",
    "        return logits\n",
    "\n",
    "# Initialize the combined model\n",
    "model = FinBERTWithMetadata(lora_model)\n",
    "print(\"Custom model with metadata features created!\")"
   ]
  },
  {
   "cell_type": "code",
   "execution_count": 10,
   "metadata": {
    "colab": {
     "base_uri": "https://localhost:8080/"
    },
    "executionInfo": {
     "elapsed": 3630,
     "status": "ok",
     "timestamp": 1749717152165,
     "user": {
      "displayName": "Tecson Gacrama",
      "userId": "11574291357152863852"
     },
     "user_tz": 420
    },
    "id": "TCVtIOOG8rQL",
    "outputId": "b494ac18-52ef-4374-ae4a-aa9333eb1b94"
   },
   "outputs": [
    {
     "name": "stdout",
     "output_type": "stream",
     "text": [
      "\n",
      "PREPARING DATA WITH TEXT AND METADATA\n",
      "Scaling metadata features...\n",
      "Feature statistics (after scaling):\n",
      "Mean: [-2.45118766e-17 -1.05589622e-17 -4.03503199e-17 -4.60069068e-17]\n",
      "Std: [1. 1. 1. 1.]\n",
      "\n",
      "Tokenizing text data...\n",
      "Training set size: 37684 samples\n",
      "Validation set size: 9422 samples\n",
      "Test set size: 4998 samples\n"
     ]
    }
   ],
   "source": [
    "print(\"\\nPREPARING DATA WITH TEXT AND METADATA\")\n",
    "\n",
    "# Define config\n",
    "feature_columns = ['ticker_count', 'mention_count', 'url_count', 'token_count']\n",
    "\n",
    "# Scale metadata features\n",
    "scaler = StandardScaler()\n",
    "train_features = X_train[feature_columns].values\n",
    "val_features = X_val[feature_columns].values\n",
    "test_features = X_test[feature_columns].values\n",
    "\n",
    "print(\"Scaling metadata features...\")\n",
    "train_features_scaled = scaler.fit_transform(train_features)\n",
    "val_features_scaled = scaler.transform(val_features)\n",
    "test_features_scaled = scaler.transform(test_features)\n",
    "\n",
    "print(\"Feature statistics (after scaling):\")\n",
    "print(f\"Mean: {train_features_scaled.mean(axis=0)}\")\n",
    "print(f\"Std: {train_features_scaled.std(axis=0)}\")\n",
    "\n",
    "# Define tokenization function\n",
    "def tokenize_function(texts):\n",
    "    return tokenizer(\n",
    "        texts,\n",
    "        padding=True,\n",
    "        truncation=True,\n",
    "        max_length=128\n",
    "    )\n",
    "\n",
    "print(\"\\nTokenizing text data...\")\n",
    "train_encodings = tokenize_function(X_train['processed_text'].tolist())\n",
    "val_encodings = tokenize_function(X_val['processed_text'].tolist())\n",
    "test_encodings = tokenize_function(X_test['processed_text'].tolist())\n",
    "\n",
    "# Define dataset class\n",
    "class TextAndFeaturesDataset(Dataset):\n",
    "    def __init__(self, encodings, labels, features):\n",
    "        self.encodings = encodings\n",
    "        self.labels = labels\n",
    "        self.features = features\n",
    "\n",
    "    def __getitem__(self, idx):\n",
    "        item = {key: torch.tensor(val[idx]) for key, val in self.encodings.items()}\n",
    "        item['labels'] = torch.tensor(self.labels[idx], dtype=torch.long)\n",
    "        item['features'] = torch.tensor(self.features[idx], dtype=torch.float)\n",
    "        return item\n",
    "\n",
    "    def __len__(self):\n",
    "        return len(self.labels)\n",
    "\n",
    "# Create dataset objects\n",
    "train_dataset = TextAndFeaturesDataset(train_encodings, y_train.tolist(), train_features_scaled)\n",
    "val_dataset = TextAndFeaturesDataset(val_encodings, y_val.tolist(), val_features_scaled)\n",
    "test_dataset = TextAndFeaturesDataset(test_encodings, y_test.tolist(), test_features_scaled)\n",
    "\n",
    "print(f\"Training set size: {len(train_dataset)} samples\")\n",
    "print(f\"Validation set size: {len(val_dataset)} samples\")\n",
    "print(f\"Test set size: {len(test_dataset)} samples\")"
   ]
  },
  {
   "cell_type": "code",
   "execution_count": 11,
   "metadata": {
    "colab": {
     "base_uri": "https://localhost:8080/"
    },
    "executionInfo": {
     "elapsed": 8,
     "status": "ok",
     "timestamp": 1749717152176,
     "user": {
      "displayName": "Tecson Gacrama",
      "userId": "11574291357152863852"
     },
     "user_tz": 420
    },
    "id": "xIYov5Xu9BUY",
    "outputId": "b49f8bb1-5338-4f5a-de3a-01a323ef884e"
   },
   "outputs": [
    {
     "name": "stdout",
     "output_type": "stream",
     "text": [
      "SETTING UP CUSTOM TRAINER\n"
     ]
    }
   ],
   "source": [
    "print(\"SETTING UP CUSTOM TRAINER\")\n",
    "\n",
    "class CustomTrainer(Trainer):\n",
    "    def compute_loss(self, model, inputs, return_outputs=False, num_items_in_batch=None):\n",
    "        labels = inputs.pop(\"labels\")\n",
    "        features = inputs.pop(\"features\")\n",
    "\n",
    "        # Forward pass with features\n",
    "        outputs = model(\n",
    "            input_ids=inputs[\"input_ids\"],\n",
    "            attention_mask=inputs[\"attention_mask\"],\n",
    "            features=features\n",
    "        )\n",
    "\n",
    "        # Compute loss\n",
    "        loss_fct = nn.CrossEntropyLoss()\n",
    "        loss = loss_fct(outputs.view(-1, 3), labels.view(-1))\n",
    "\n",
    "        return (loss, outputs) if return_outputs else loss\n",
    "\n",
    "    def prediction_step(self, model, inputs, prediction_loss_only, ignore_keys=None):\n",
    "        labels = inputs.pop(\"labels\") if \"labels\" in inputs else None\n",
    "        features = inputs.pop(\"features\")\n",
    "\n",
    "        with torch.no_grad():\n",
    "            outputs = model(\n",
    "                input_ids=inputs[\"input_ids\"],\n",
    "                attention_mask=inputs[\"attention_mask\"],\n",
    "                features=features\n",
    "            )\n",
    "\n",
    "        loss = None\n",
    "        if labels is not None:\n",
    "            loss_fct = nn.CrossEntropyLoss()\n",
    "            loss = loss_fct(outputs.view(-1, 3), labels.view(-1))\n",
    "\n",
    "        return (loss, outputs, labels)"
   ]
  },
  {
   "cell_type": "code",
   "execution_count": null,
   "metadata": {
    "colab": {
     "base_uri": "https://localhost:8080/",
     "height": 761
    },
    "executionInfo": {
     "elapsed": 16191,
     "status": "error",
     "timestamp": 1749721069026,
     "user": {
      "displayName": "Tecson Gacrama",
      "userId": "11574291357152863852"
     },
     "user_tz": 420
    },
    "id": "J6NrWg0n9EyP",
    "outputId": "bbe5f751-8db0-495d-ace8-a5b3c78db897"
   },
   "outputs": [],
   "source": [
    "# Training arguments\n",
    "training_args = TrainingArguments(\n",
    "    output_dir=\"../../models/v1-1/baseline/finbert_lora\",\n",
    "    num_train_epochs=5,\n",
    "    per_device_train_batch_size=16,\n",
    "    warmup_steps=500,\n",
    "    weight_decay=0.01,\n",
    "    learning_rate=2e-5,\n",
    "    fp16=torch.cuda.is_available(),\n",
    "    seed=42,\n",
    "    logging_strategy=\"epoch\",\n",
    "    eval_strategy=\"epoch\",\n",
    "    logging_dir=\"../../training_logs/v1-1/baseline/finbert_lora_logs\",\n",
    "    save_strategy=\"epoch\",\n",
    "    disable_tqdm=True,\n",
    "    report_to=\"none\",\n",
    "    remove_unused_columns=False,\n",
    ")\n",
    "\n",
    "# Create trainer\n",
    "trainer = CustomTrainer(\n",
    "    model=model,\n",
    "    args=training_args,\n",
    "    train_dataset=train_dataset,\n",
    "    eval_dataset=val_dataset,\n",
    "    tokenizer=tokenizer,\n",
    "    data_collator=default_data_collator,\n",
    ")\n",
    "\n",
    "print(\"TRAINING MODEL\")\n",
    "trainer.train()"
   ]
  },
  {
   "cell_type": "code",
   "execution_count": null,
   "metadata": {
    "colab": {
     "base_uri": "https://localhost:8080/",
     "height": 1000
    },
    "executionInfo": {
     "elapsed": 643541,
     "status": "error",
     "timestamp": 1749720980261,
     "user": {
      "displayName": "Tecson Gacrama",
      "userId": "11574291357152863852"
     },
     "user_tz": 420
    },
    "id": "tpdmrHwD_hcY",
    "outputId": "26a18569-3513-41f8-8212-5f45d7ca721c"
   },
   "outputs": [],
   "source": [
    "# Evaluate\n",
    "print(\"EVALUATE ON TEST SET\")\n",
    "evaluate_transformer(trainer, train_dataset, test_dataset, y_train, y_test, model, save_dir=\"../../evaluation/baseline/finbert_lora_eval\")\n"
   ]
  },
  {
   "cell_type": "code",
   "execution_count": null,
   "metadata": {
    "id": "JOQOlnmX_mTw"
   },
   "outputs": [],
   "source": [
    "print(\"SAVING FINAL MODEL AND COMPONENTS\")\n",
    "\n",
    "save_dir = \"../../models/v1-1/baseline/finbert_lora/final\"\n",
    "os.makedirs(save_dir, exist_ok=True)\n",
    "\n",
    "# Save model state (custom classifier + LoRA)\n",
    "torch.save({\n",
    "    'model_state_dict': model.state_dict(),\n",
    "    'scaler': scaler,\n",
    "    'feature_columns': feature_columns,\n",
    "    'lora_config': lora_config,\n",
    "}, os.path.join(save_dir, 'model_complete.pth'))\n",
    "\n",
    "# Save tokenizer and LoRA adapter separately\n",
    "tokenizer.save_pretrained(save_dir)\n",
    "model.lora_model.save_pretrained(os.path.join(save_dir, 'lora_adapter'))\n",
    "\n",
    "print(f\"Saved to: {save_dir}\")\n",
    "print(\"Contents:\")\n",
    "print(\"  - model_complete.pth\")\n",
    "print(\"  - tokenizer/\")\n",
    "print(\"  - lora_adapter/\")\n"
   ]
  }
 ],
 "metadata": {
  "accelerator": "GPU",
  "colab": {
   "gpuType": "A100",
   "machine_shape": "hm",
   "provenance": []
  },
  "kernelspec": {
   "display_name": "Python 3",
   "name": "python3"
  },
  "language_info": {
   "codemirror_mode": {
    "name": "ipython",
    "version": 3
   },
   "file_extension": ".py",
   "mimetype": "text/x-python",
   "name": "python",
   "nbconvert_exporter": "python",
   "pygments_lexer": "ipython3",
   "version": "3.13.3"
  }
 },
 "nbformat": 4,
 "nbformat_minor": 0
}
