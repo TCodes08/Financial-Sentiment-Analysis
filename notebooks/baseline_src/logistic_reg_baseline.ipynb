{
 "cells": [
  {
   "cell_type": "code",
   "execution_count": 4,
   "metadata": {
    "executionInfo": {
     "elapsed": 223,
     "status": "ok",
     "timestamp": 1749818950706,
     "user": {
      "displayName": "Tecson Gacrama",
      "userId": "18401272760740040809"
     },
     "user_tz": 420
    },
    "id": "wpkLhVgETnfR"
   },
   "outputs": [],
   "source": [
    "import pandas as pd\n",
    "from sklearn.model_selection import train_test_split, validation_curve\n",
    "from sklearn.feature_extraction.text import TfidfVectorizer\n",
    "from sklearn.metrics import classification_report, accuracy_score, confusion_matrix\n",
    "from sklearn.preprocessing import StandardScaler\n",
    "from sklearn.compose import ColumnTransformer\n",
    "from sklearn.linear_model import LogisticRegression\n",
    "from sklearn.pipeline import Pipeline\n",
    "import matplotlib as plt\n",
    "import seaborn as sns\n",
    "import sys\n",
    "import joblib\n",
    "sys.path.append('../../src')\n",
    "from preprocessing import FinancialTweetPreprocessor\n",
    "from evaluation_classical import evaluate_classical_model\n",
    "from initial_balanced_dataset import create_balanced_dataset"
   ]
  },
  {
   "cell_type": "code",
   "execution_count": 5,
   "metadata": {
    "colab": {
     "base_uri": "https://localhost:8080/"
    },
    "executionInfo": {
     "elapsed": 26503,
     "status": "ok",
     "timestamp": 1749819063742,
     "user": {
      "displayName": "Tecson Gacrama",
      "userId": "18401272760740040809"
     },
     "user_tz": 420
    },
    "id": "i0gu4bVuTnfR",
    "outputId": "9e2bf5b5-bc54-417f-eded-96cb7d12820f"
   },
   "outputs": [
    {
     "name": "stdout",
     "output_type": "stream",
     "text": [
      "Both train/val and test datasets already exist. Skipping creation.\n",
      "(47106, 2)\n",
      "Preprocessing DataFrame...\n",
      "\n",
      "Processed DataFrame:\n",
      "                                      processed_text  sentiment  ticker_count  \\\n",
      "0          upholding perhaps pushing price upwards .          1             0   \n",
      "1  michael k . wirth sell 52,500 share chevron co...          2             1   \n",
      "2  would buy aap buy c growth . aap sell ipads ip...          1             0   \n",
      "3  economic expert believe current interest rate ...          0             0   \n",
      "4                    era financial boom over forever          2             0   \n",
      "\n",
      "   mention_count  url_count  token_count  exclamation_count  question_count  \n",
      "0              0          0            6                  0               0  \n",
      "1              0          0           12                  0               0  \n",
      "2              0          0           15                  0               0  \n",
      "3              0          0           10                  0               0  \n",
      "4              0          0            5                  0               0  \n",
      "\n",
      "All columns in processed DataFrame:\n",
      "['tweet', 'sentiment', 'processed_text', 'ticker_count', 'mention_count', 'url_count', 'token_count', 'exclamation_count', 'question_count']\n",
      "Number of zeros per column:\n",
      "tweet                    0\n",
      "sentiment            15702\n",
      "processed_text           0\n",
      "ticker_count         29186\n",
      "mention_count        40628\n",
      "url_count            37076\n",
      "token_count              2\n",
      "exclamation_count    43507\n",
      "question_count       44121\n",
      "dtype: int64\n"
     ]
    }
   ],
   "source": [
    "# Create dataset (skips if dataset already exists)\n",
    "create_balanced_dataset()\n",
    "\n",
    "# Load Data\n",
    "df = pd.read_csv('../../dataset/initial_balanced_tweets.csv')\n",
    "print(df.shape)\n",
    "\n",
    "# Preprocess\n",
    "print(\"Preprocessing DataFrame...\")\n",
    "preprocessor = FinancialTweetPreprocessor()\n",
    "df_preprocessed = preprocessor.preprocess_dataset(df, 'tweet')\n",
    "\n",
    "pd.set_option('display.max_columns', None)\n",
    "print(\"\\nProcessed DataFrame:\")\n",
    "print(df_preprocessed[['processed_text', 'sentiment', 'ticker_count', 'mention_count',\n",
    "                       'url_count', 'token_count', 'exclamation_count', 'question_count']].head())\n",
    "print(\"\\nAll columns in processed DataFrame:\")\n",
    "print(df_preprocessed.columns.tolist())\n",
    "\n",
    "# Count zeros in every column of df_preprocessed\n",
    "zero_counts = (df_preprocessed == 0).sum()\n",
    "print(\"Number of zeros per column:\")\n",
    "print(zero_counts)"
   ]
  },
  {
   "cell_type": "code",
   "execution_count": null,
   "metadata": {},
   "outputs": [],
   "source": [
    "# Split the Data into Training and Testing Sets\n",
    "X_train, X_val, y_train, y_val = train_test_split(X, y, test_size=0.2, random_state=42, stratify=y)\n",
    "print(f\"Training set size: {len(X_train)} samples\")\n",
    "print(f\"Validation set size: {len(X_val)} samples\")"
   ]
  },
  {
   "cell_type": "code",
   "execution_count": null,
   "metadata": {},
   "outputs": [],
   "source": [
    "print(\"\\nLOADING & PREPROCESSING TEST SET\")\n",
    "df_test = pd.read_csv(\"../../dataset/test_set.csv\")\n",
    "# Preprocess text\n",
    "preprocessor = FinancialTweetPreprocessor()\n",
    "df_test = preprocessor.preprocess_dataset(df_test, text_column='tweet')\n",
    "# Prepare inputs\n",
    "X = df_preprocessed[['processed_text', 'ticker_count', 'mention_count',\n",
    "                 'url_count', 'token_count']]\n",
    "y = df_preprocessed['sentiment']\n",
    "X_test = df_test[['processed_text', 'ticker_count', 'mention_count', 'url_count', 'token_count']]\n",
    "y_test = df_test['sentiment']\n",
    "print(f\"Testing set size: {len(X_test)} samples\")"
   ]
  },
  {
   "cell_type": "code",
   "execution_count": 6,
   "metadata": {
    "executionInfo": {
     "elapsed": 3,
     "status": "aborted",
     "timestamp": 1749818750835,
     "user": {
      "displayName": "Tecson Gacrama",
      "userId": "18401272760740040809"
     },
     "user_tz": 420
    },
    "id": "zE-LU_oATnfT"
   },
   "outputs": [
    {
     "name": "stdout",
     "output_type": "stream",
     "text": [
      "Training set size: 37684 samples\n",
      "Testing set size: 9422 samples\n",
      "\n",
      "Training Logistic Regression model...\n"
     ]
    },
    {
     "name": "stderr",
     "output_type": "stream",
     "text": [
      "/Users/tecsongacrama/Desktop/CS_Projects/financial_sentimentAnalysis/sentimentAnalysis-venv/lib/python3.13/site-packages/sklearn/linear_model/_logistic.py:1273: FutureWarning: 'multi_class' was deprecated in version 1.5 and will be removed in 1.7. Use OneVsRestClassifier(LogisticRegression(..)) instead. Leave it to its default value to avoid this warning.\n",
      "  warnings.warn(\n",
      "/Users/tecsongacrama/Desktop/CS_Projects/financial_sentimentAnalysis/sentimentAnalysis-venv/lib/python3.13/site-packages/sklearn/linear_model/_logistic.py:1288: FutureWarning: Using the 'liblinear' solver for multiclass classification is deprecated. An error will be raised in 1.8. Either use another solver which supports the multinomial loss or wrap the estimator in a OneVsRestClassifier to keep applying a one-versus-rest scheme.\n",
      "  warnings.warn(\n"
     ]
    },
    {
     "name": "stdout",
     "output_type": "stream",
     "text": [
      "Logistic Regression training complete.\n",
      "\n",
      "Evaluating the Logistic Regression model...\n"
     ]
    }
   ],
   "source": [
    "# Define Preprocessing Steps for Different Column Types\n",
    "# Apply different transformations to different columns\n",
    "preprocessor_for_model = ColumnTransformer(\n",
    "    transformers=[\n",
    "        # Apply TF-IDF to the 'processed_text' column\n",
    "        ('text_vectorizer', TfidfVectorizer(max_features=20000, min_df=5, ngram_range=(1, 2)), 'processed_text'),\n",
    "        # Apply StandardScaler to the numerical metadata features\n",
    "        ('num_scaler', StandardScaler(), ['ticker_count', 'mention_count', 'url_count',\n",
    "                                         'token_count'])\n",
    "    ]\n",
    ")\n",
    "\n",
    "# Create a Pipeline: Preprocessing + Model Training\n",
    "pipeline = Pipeline(steps=[\n",
    "    ('preprocessor', preprocessor_for_model),  # Applies TF-IDF to text and scales numerical features\n",
    "    ('logistic_model', LogisticRegression(random_state=42, C=2.0, max_iter=1000,\n",
    "                                         multi_class='ovr', solver='liblinear', penalty='l2'))\n",
    "])\n",
    "\n",
    "# Train the Pipeline\n",
    "print(\"\\nTraining Logistic Regression model...\")\n",
    "pipeline.fit(X_train, y_train)\n",
    "print(\"Logistic Regression training complete.\")\n",
    "\n",
    "# Evaluate the Model\n",
    "print(\"\\nEvaluating the Logistic Regression model...\")\n",
    "y_pred = pipeline.predict(X_val)"
   ]
  },
  {
   "cell_type": "code",
   "execution_count": 7,
   "metadata": {
    "executionInfo": {
     "elapsed": 3,
     "status": "aborted",
     "timestamp": 1749818750836,
     "user": {
      "displayName": "Tecson Gacrama",
      "userId": "18401272760740040809"
     },
     "user_tz": 420
    },
    "id": "VbOY6_LwTnfT"
   },
   "outputs": [
    {
     "name": "stdout",
     "output_type": "stream",
     "text": [
      "\n",
      "--- Summary Metrics ---\n",
      "                     Precision (Macro Avg)  Recall (Macro Avg)  \\\n",
      "Logistic Regression               0.797772            0.797391   \n",
      "\n",
      "                     F1-Score (Macro Avg)  Overall Accuracy  \n",
      "Logistic Regression              0.797463          0.797389  \n"
     ]
    }
   ],
   "source": [
    "print(\"\\nTraining Logistic Regression model...\")\n",
    "pipeline.fit(X_train, y_train)\n",
    "print(\"Logistic Regression training complete.\")\n",
    "\n",
    "evaluate_classical_model(\n",
    "    pipeline=pipeline,\n",
    "    X_train=X_train,\n",
    "    y_train=y_train,\n",
    "    X_test=X_test,\n",
    "    y_test=y_test,\n",
    "    model_name='Logistic Regression'\n",
    ")\n"
   ]
  },
  {
   "cell_type": "code",
   "execution_count": null,
   "metadata": {},
   "outputs": [],
   "source": [
    "# Save the entire pipeline (preprocessing + model)\n",
    "joblib.dump(pipeline, '../../models/v1-1/baseline/logistic_regression_pipeline.pkl')\n",
    "print(\"Model pipeline saved to ../../models/v1-1/baseline/logistic_regression_pipeline.pkl\")"
   ]
  }
 ],
 "metadata": {
  "colab": {
   "provenance": []
  },
  "kernelspec": {
   "display_name": "sentimentAnalysis-env",
   "language": "python",
   "name": "python3"
  },
  "language_info": {
   "codemirror_mode": {
    "name": "ipython",
    "version": 3
   },
   "file_extension": ".py",
   "mimetype": "text/x-python",
   "name": "python",
   "nbconvert_exporter": "python",
   "pygments_lexer": "ipython3",
   "version": "3.13.3"
  }
 },
 "nbformat": 4,
 "nbformat_minor": 0
}
