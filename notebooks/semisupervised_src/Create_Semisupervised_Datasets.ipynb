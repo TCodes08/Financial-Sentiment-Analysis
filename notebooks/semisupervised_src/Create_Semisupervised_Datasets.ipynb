{
  "cells": [
    {
      "cell_type": "code",
      "execution_count": 2,
      "metadata": {
        "id": "s_JyLAUu4qf3"
      },
      "outputs": [],
      "source": [
        "import pandas as pd\n",
        "from sklearn.model_selection import train_test_split"
      ]
    },
    {
      "cell_type": "code",
      "execution_count": null,
      "metadata": {
        "id": "yYUHF3qk42RW"
      },
      "outputs": [],
      "source": [
        "df_initial = pd.read_csv('../../dataset/initial_balanced_tweets.csv')\n",
        "df_pseudo = pd.read_csv('../../dataset/pseudo_labels_98pct_confidence.csv')"
      ]
    },
    {
      "cell_type": "code",
      "execution_count": 4,
      "metadata": {
        "id": "YIEJyXcL5Mr2"
      },
      "outputs": [],
      "source": [
        "X = df_initial['tweet']\n",
        "y = df_initial['sentiment']\n",
        "\n",
        "X_train, X_val, y_train, y_val = train_test_split(X, y, test_size=0.2, random_state=42, stratify=y)"
      ]
    },
    {
      "cell_type": "code",
      "execution_count": 5,
      "metadata": {
        "colab": {
          "base_uri": "https://localhost:8080/",
          "height": 232
        },
        "id": "YusDDRyB7nwr",
        "outputId": "48e57a18-68b0-4525-ca0c-ded09e738e83"
      },
      "outputs": [
        {
          "name": "stdout",
          "output_type": "stream",
          "text": [
            "Train sentiment\n",
            "0    12562\n",
            "2    12561\n",
            "1    12561\n",
            "Name: count, dtype: int64\n",
            "Val sentiment\n",
            "2    3141\n",
            "1    3141\n",
            "0    3140\n",
            "Name: count, dtype: int64\n"
          ]
        },
        {
          "data": {
            "application/vnd.google.colaboratory.intrinsic+json": {
              "type": "string"
            },
            "text/plain": [
              "'\\nTrain sentiment\\n0    12562\\n2    12561\\n1    12561\\nName: count, dtype: int64\\nVal sentiment\\n2    3141\\n1    3141\\n0    3140\\nName: count, dtype: int64\\n'"
            ]
          },
          "execution_count": 5,
          "metadata": {},
          "output_type": "execute_result"
        }
      ],
      "source": [
        "print(\"Train\",y_train.value_counts())\n",
        "print(\"Val\",y_val.value_counts())\n",
        "\n",
        "'''\n",
        "Train sentiment\n",
        "0    12562\n",
        "2    12561\n",
        "1    12561\n",
        "Name: count, dtype: int64\n",
        "Val sentiment\n",
        "2    3141\n",
        "1    3141\n",
        "0    3140\n",
        "Name: count, dtype: int64\n",
        "'''"
      ]
    },
    {
      "cell_type": "code",
      "execution_count": 6,
      "metadata": {
        "id": "88b8x-AO73OR"
      },
      "outputs": [],
      "source": [
        "gold_train = pd.concat([X_train,y_train],axis=1)\n",
        "gold_val = pd.concat([X_val,y_val],axis=1)"
      ]
    },
    {
      "cell_type": "code",
      "execution_count": 7,
      "metadata": {
        "id": "n0rBds1OAnzq"
      },
      "outputs": [],
      "source": [
        "df_combined=pd.concat([gold_train,df_pseudo],axis=0)"
      ]
    },
    {
      "cell_type": "code",
      "execution_count": 8,
      "metadata": {
        "colab": {
          "base_uri": "https://localhost:8080/",
          "height": 107
        },
        "id": "XK8TtVIGA4BF",
        "outputId": "df465bb5-4970-4923-8bb8-a46e8dd5bec4"
      },
      "outputs": [
        {
          "name": "stdout",
          "output_type": "stream",
          "text": [
            "Val: 9422\n",
            "Train: 37684\n",
            "Pseudo: 81737\n",
            "Combined: 119421\n"
          ]
        },
        {
          "data": {
            "application/vnd.google.colaboratory.intrinsic+json": {
              "type": "string"
            },
            "text/plain": [
              "'\\nVal: 9422\\nTrain: 37684\\nPseudo: 81737\\nCombined: 119421\\n'"
            ]
          },
          "execution_count": 8,
          "metadata": {},
          "output_type": "execute_result"
        }
      ],
      "source": [
        "print(\"Val:\",len(gold_val))\n",
        "print(\"Train:\",len(gold_train))\n",
        "print(\"Pseudo:\",len(df_pseudo))\n",
        "print(\"Combined:\",len(df_combined))\n",
        "\n",
        "'''\n",
        "Val: 9422\n",
        "Train: 37684\n",
        "Pseudo: 81737\n",
        "Combined: 119421\n",
        "'''"
      ]
    },
    {
      "cell_type": "code",
      "execution_count": 9,
      "metadata": {
        "colab": {
          "base_uri": "https://localhost:8080/",
          "height": 125
        },
        "id": "kef0ONY8CjUU",
        "outputId": "fbd8ada7-36c1-4dab-8e88-8ef2f3483e48"
      },
      "outputs": [
        {
          "name": "stdout",
          "output_type": "stream",
          "text": [
            "sentiment\n",
            "2    44516\n",
            "1    40943\n",
            "0    33962\n",
            "Name: count, dtype: int64\n"
          ]
        },
        {
          "data": {
            "application/vnd.google.colaboratory.intrinsic+json": {
              "type": "string"
            },
            "text/plain": [
              "'\\nsentiment\\n2    44516\\n1    40943\\n0    33962\\nName: count, dtype: int64\\n'"
            ]
          },
          "execution_count": 9,
          "metadata": {},
          "output_type": "execute_result"
        }
      ],
      "source": [
        "X_combined=df_combined['tweet']\n",
        "y_combined=df_combined['sentiment']\n",
        "print(y_combined.value_counts())\n",
        "\n",
        "'''\n",
        "sentiment\n",
        "2    44516\n",
        "1    40943\n",
        "0    33962\n",
        "Name: count, dtype: int64\n",
        "'''"
      ]
    },
    {
      "cell_type": "code",
      "execution_count": 10,
      "metadata": {
        "colab": {
          "base_uri": "https://localhost:8080/"
        },
        "id": "DSzrzcE-CqxR",
        "outputId": "ede82ef9-95c4-4f51-cadd-b406f3f07813"
      },
      "outputs": [
        {
          "name": "stderr",
          "output_type": "stream",
          "text": [
            "/usr/local/lib/python3.11/dist-packages/huggingface_hub/utils/_auth.py:94: UserWarning: \n",
            "The secret `HF_TOKEN` does not exist in your Colab secrets.\n",
            "To authenticate with the Hugging Face Hub, create a token in your settings tab (https://huggingface.co/settings/tokens), set it as secret in your Google Colab and restart your session.\n",
            "You will be able to reuse this secret in all of your notebooks.\n",
            "Please note that authentication is recommended but still optional to access public models or datasets.\n",
            "  warnings.warn(\n"
          ]
        }
      ],
      "source": [
        "# Balance with Synthetic Tweets\n",
        "\n",
        "synth_df = pd.read_parquet(\"hf://datasets/TimKoornstra/synthetic-financial-tweets-sentiment/data/train-00000-of-00001.parquet\")\n",
        "\n",
        "# Previously balanced original train/val set using:\n",
        "# bearish = synth_df[synth_df['sentiment'] == 2].head(8826)\n",
        "# neutral = synth_df[synth_df['sentiment'] == 0].head(5187)\n",
        "\n",
        "#bearish_start=8826\n",
        "neutral_start=5187\n",
        "\n",
        "bullish_needed=(44516-40943)\n",
        "neutral_needed=(44516-33962)\n",
        "\n",
        "bullish = synth_df[synth_df['sentiment'] == 1].head(bullish_needed)\n",
        "neutral = synth_df[synth_df['sentiment'] == 0].iloc[neutral_start:].head(neutral_needed)"
      ]
    },
    {
      "cell_type": "code",
      "execution_count": 11,
      "metadata": {
        "colab": {
          "base_uri": "https://localhost:8080/",
          "height": 125
        },
        "id": "d5Uvbu0UFwmT",
        "outputId": "025143fc-2214-478b-b9ad-4f51f8a07b93"
      },
      "outputs": [
        {
          "name": "stdout",
          "output_type": "stream",
          "text": [
            "sentiment\n",
            "0    44516\n",
            "2    44516\n",
            "1    44516\n",
            "Name: count, dtype: int64\n"
          ]
        },
        {
          "data": {
            "application/vnd.google.colaboratory.intrinsic+json": {
              "type": "string"
            },
            "text/plain": [
              "'\\nsentiment\\n0    44516\\n2    44516\\n1    44516\\nName: count, dtype: int64\\n'"
            ]
          },
          "execution_count": 11,
          "metadata": {},
          "output_type": "execute_result"
        }
      ],
      "source": [
        "df_combined=pd.concat([df_combined,bullish,neutral],axis=0, ignore_index=True)\n",
        "\n",
        "X_combined=df_combined['tweet']\n",
        "y_combined=df_combined['sentiment']\n",
        "print(y_combined.value_counts())\n",
        "\n",
        "'''\n",
        "sentiment\n",
        "0    44516\n",
        "2    44516\n",
        "1    44516\n",
        "Name: count, dtype: int64\n",
        "'''"
      ]
    },
    {
      "cell_type": "code",
      "execution_count": null,
      "metadata": {
        "colab": {
          "base_uri": "https://localhost:8080/"
        },
        "id": "osdw1_8_GRcv",
        "outputId": "f1a3ddd2-b78f-4b7e-8a91-a720f5bba11b"
      },
      "outputs": [
        {
          "name": "stdout",
          "output_type": "stream",
          "text": [
            "Saved Semisupervised Training Set => Original Training Split + Pseudolabels + New Synthetic Balancing Tweets\n",
            "Saved Semisupervised Validation Set => just the Original Validation Split\n"
          ]
        }
      ],
      "source": [
        "df_combined.to_csv(\"../../dataset/semisupervised_training.csv\", index=False)\n",
        "print(\"Saved Semisupervised Training Set => Original Training Split + Pseudolabels + New Synthetic Balancing Tweets\")\n",
        "\n",
        "gold_val.to_csv(\"../../dataset/semisupervised_validation.csv\", index=False)\n",
        "print(\"Saved Semisupervised Validation Set => just the Original Validation Split\")"
      ]
    }
  ],
  "metadata": {
    "colab": {
      "provenance": []
    },
    "kernelspec": {
      "display_name": "Python 3",
      "name": "python3"
    },
    "language_info": {
      "name": "python"
    }
  },
  "nbformat": 4,
  "nbformat_minor": 0
}
